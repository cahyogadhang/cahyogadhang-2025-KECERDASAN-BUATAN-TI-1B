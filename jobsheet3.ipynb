{
  "nbformat": 4,
  "nbformat_minor": 0,
  "metadata": {
    "colab": {
      "provenance": [],
      "toc_visible": true,
      "authorship_tag": "ABX9TyPO4+2RUwamfD3B9r6U1h6U",
      "include_colab_link": true
    },
    "kernelspec": {
      "name": "python3",
      "display_name": "Python 3"
    },
    "language_info": {
      "name": "python"
    }
  },
  "cells": [
    {
      "cell_type": "markdown",
      "metadata": {
        "id": "view-in-github",
        "colab_type": "text"
      },
      "source": [
        "<a href=\"https://colab.research.google.com/github/cahyogadhang/cahyogadhang-2025-KECERDASAN-BUATAN-TI-1B/blob/main/jobsheet3.ipynb\" target=\"_parent\"><img src=\"https://colab.research.google.com/assets/colab-badge.svg\" alt=\"Open In Colab\"/></a>"
      ]
    },
    {
      "cell_type": "markdown",
      "source": [
        "# Jobsheet 3: Pengukuran Statistik Deskriptif"
      ],
      "metadata": {
        "id": "RciXHn87iYBI"
      }
    },
    {
      "cell_type": "markdown",
      "source": [
        "# A. Latihan"
      ],
      "metadata": {
        "id": "2prevUAPjVGi"
      }
    },
    {
      "cell_type": "markdown",
      "source": [
        "## 1.Central Tendency"
      ],
      "metadata": {
        "id": "50GumHcIjbd-"
      }
    },
    {
      "cell_type": "markdown",
      "source": [
        "### a. Mendapatkan Nilai Mean"
      ],
      "metadata": {
        "id": "uOjtb-oDjk27"
      }
    },
    {
      "cell_type": "code",
      "source": [
        "import numpy as np\n",
        "\n",
        "score = [90, 80, 70, 65, 110, 80, 83, 67, 94]\n",
        "\n",
        "x = np.mean(score)\n",
        "print (\"x =\",x)"
      ],
      "metadata": {
        "colab": {
          "base_uri": "https://localhost:8080/"
        },
        "id": "2ziXfj7oj18a",
        "outputId": "3523345a-e8c6-4020-ccfe-6d5a3436c055"
      },
      "execution_count": null,
      "outputs": [
        {
          "output_type": "stream",
          "name": "stdout",
          "text": [
            "x = 82.11111111111111\n"
          ]
        }
      ]
    },
    {
      "cell_type": "markdown",
      "source": [
        "### b. Mendapatkan Nilai Median"
      ],
      "metadata": {
        "id": "zy-6dcR6j446"
      }
    },
    {
      "cell_type": "code",
      "source": [
        "import numpy as np\n",
        "\n",
        "score = [90, 80, 70, 65, 110, 80, 83, 67, 94]\n",
        "\n",
        "x = np.median(score)\n",
        "print (\"x =\",x)"
      ],
      "metadata": {
        "colab": {
          "base_uri": "https://localhost:8080/"
        },
        "id": "2PR_2vfPkCpV",
        "outputId": "4f217df7-49fe-45a5-85e1-907d1197749e"
      },
      "execution_count": null,
      "outputs": [
        {
          "output_type": "stream",
          "name": "stdout",
          "text": [
            "x = 80.0\n"
          ]
        }
      ]
    },
    {
      "cell_type": "markdown",
      "source": [
        "### c. Mendapatkan Nilai Modus/Mode"
      ],
      "metadata": {
        "id": "HHnVmhupkE7G"
      }
    },
    {
      "cell_type": "code",
      "source": [
        "from scipy import stats\n",
        "\n",
        "score = [90, 80, 70, 65, 110, 80, 83, 67, 94]\n",
        "\n",
        "x = stats.mode(score, keepdims=True)\n",
        "print (\"x =\",x)"
      ],
      "metadata": {
        "colab": {
          "base_uri": "https://localhost:8080/"
        },
        "id": "czOnGO6mkLjW",
        "outputId": "98e2d302-1054-46f6-8018-fda024018df2"
      },
      "execution_count": null,
      "outputs": [
        {
          "output_type": "stream",
          "name": "stdout",
          "text": [
            "x = ModeResult(mode=array([80]), count=array([2]))\n"
          ]
        }
      ]
    },
    {
      "cell_type": "markdown",
      "source": [
        "## 2.Spread"
      ],
      "metadata": {
        "id": "uO5rpgzbkO-3"
      }
    },
    {
      "cell_type": "markdown",
      "source": [
        "### a. Mendapatkan Nilai Range"
      ],
      "metadata": {
        "id": "D4Jh__xXkUB6"
      }
    },
    {
      "cell_type": "code",
      "source": [
        "import numpy as np\n",
        "\n",
        "data = [2, 3, 7, 8, 9, 12, 15, 20, 50, 42]\n",
        "\n",
        "minimum = np.min(data)\n",
        "maximum = np.max(data)\n",
        "x = maximum - minimum\n",
        "print (\"x =\",x)"
      ],
      "metadata": {
        "colab": {
          "base_uri": "https://localhost:8080/"
        },
        "id": "c0zqYQHKknIK",
        "outputId": "208622f6-1d29-488a-91b2-7358749aa35a"
      },
      "execution_count": null,
      "outputs": [
        {
          "output_type": "stream",
          "name": "stdout",
          "text": [
            "x = 48\n"
          ]
        }
      ]
    },
    {
      "cell_type": "markdown",
      "source": [
        "### b. Mendapatkan Nilai Percentile"
      ],
      "metadata": {
        "id": "XEkJXAOmkoYw"
      }
    },
    {
      "cell_type": "code",
      "source": [
        "import numpy as np\n",
        "\n",
        "data = [90, 80, 70, 65, 110, 80, 83, 67, 94]\n",
        "\n",
        "x = np.percentile(data, 90)\n",
        "print (\"x =\",x)"
      ],
      "metadata": {
        "colab": {
          "base_uri": "https://localhost:8080/"
        },
        "id": "bUC51jT5kvrK",
        "outputId": "682b22c3-b260-4bc3-c3f3-e36ee7f9ca5b"
      },
      "execution_count": null,
      "outputs": [
        {
          "output_type": "stream",
          "name": "stdout",
          "text": [
            "x = 97.2\n"
          ]
        }
      ]
    },
    {
      "cell_type": "markdown",
      "source": [
        "### c. Mendapatkan Nilai Quartile dan Interquartile Range"
      ],
      "metadata": {
        "id": "m_0Uec3bkx01"
      }
    },
    {
      "cell_type": "code",
      "source": [
        "import numpy as np\n",
        "\n",
        "data = [3, 4, 4, 5, 5, 6, 6, 7, 8, 8, 9, 10]\n",
        "\n",
        "Q1 = np.median(data[:int(len(data)/2)])\n",
        "Q3 = np.median(data[int(len(data)/2):])\n",
        "IQR = Q3 - Q1\n",
        "print (\"Q1 =\",Q1,\"Q3 =\",Q3,\"IQR =\",IQR)"
      ],
      "metadata": {
        "colab": {
          "base_uri": "https://localhost:8080/"
        },
        "id": "xHjkAkQyk76R",
        "outputId": "79660bbe-892c-4c74-cb4e-0b52ae3e9e6c"
      },
      "execution_count": null,
      "outputs": [
        {
          "output_type": "stream",
          "name": "stdout",
          "text": [
            "Q1 = 4.5 Q3 = 8.0 IQR = 3.5\n"
          ]
        }
      ]
    },
    {
      "cell_type": "markdown",
      "source": [
        "### d. Mendapatkan Nilai Variance dan Standart Deviation"
      ],
      "metadata": {
        "id": "C5HplGu7k8-m"
      }
    },
    {
      "cell_type": "code",
      "source": [
        "import numpy as np\n",
        "\n",
        "data= [86, 87, 88, 86, 87, 85, 86]\n",
        "\n",
        "mean = np.mean(data)\n",
        "var = np.var(data)\n",
        "std = np.std(data)\n",
        "print (\"mean =\",mean,\"var =\",var,\"std =\",std)"
      ],
      "metadata": {
        "colab": {
          "base_uri": "https://localhost:8080/"
        },
        "id": "aZe5y39tlHF5",
        "outputId": "6dca0427-2234-4c91-9a71-c88b3f7b03bf"
      },
      "execution_count": null,
      "outputs": [
        {
          "output_type": "stream",
          "name": "stdout",
          "text": [
            "mean = 86.42857142857143 var = 0.8163265306122449 std = 0.9035079029052513\n"
          ]
        }
      ]
    },
    {
      "cell_type": "markdown",
      "source": [
        "# B. Tugas Praktikum"
      ],
      "metadata": {
        "id": "-DgORKQGneeK"
      }
    },
    {
      "cell_type": "markdown",
      "source": [
        "## 1.Pelemparan dadu sebanyak 25 kali. Angka yang keluar datanya adalah : 1 2 3 4 5 5 6 2 3 4 5 6 6 4 3 2 1 4 3 5 6 6 5 4 5\n",
        "Modus dari data diatas adalah …"
      ],
      "metadata": {
        "id": "LaYA9ok9n6rN"
      }
    },
    {
      "cell_type": "code",
      "source": [
        "from scipy import stats\n",
        "\n",
        "data = [1, 2, 3, 4, 5, 5, 6, 2, 3, 4, 5, 6,\n",
        "6, 4, 3, 2, 1, 4, 3, 5, 6, 6, 5, 4, 5]\n",
        "\n",
        "x = stats.mode(data, keepdims=True)\n",
        "print(x)"
      ],
      "metadata": {
        "colab": {
          "base_uri": "https://localhost:8080/"
        },
        "id": "1caW7o_ToKZl",
        "outputId": "863365b2-5343-4bac-cfcb-d0f4effdaf79"
      },
      "execution_count": 3,
      "outputs": [
        {
          "output_type": "stream",
          "name": "stdout",
          "text": [
            "ModeResult(mode=array([5]), count=array([6]))\n"
          ]
        }
      ]
    },
    {
      "cell_type": "markdown",
      "source": [
        "## 2.Diketahui sebuah deret data 9, 10, 11, 6, 8, 7, 7, 5, 4, 5. Tentukan persentil ke-25 dan persentil ke-75 !"
      ],
      "metadata": {
        "id": "52eaiWY-oN_r"
      }
    },
    {
      "cell_type": "code",
      "source": [
        "import numpy as np\n",
        "import statistics\n",
        "\n",
        "# Data awal (belum diurutkan)\n",
        "data_percentiles = [9, 10, 11, 6, 8, 7, 7, 5, 4, 5]\n",
        "\n",
        "# Urutkan data\n",
        "data_percentiles.sort()\n",
        "\n",
        "# Menghitung persentil ke-25 dan ke-75 menggunakan numpy\n",
        "p25 = np.percentile(data_percentiles, 25)\n",
        "p75 = np.percentile(data_percentiles, 75)\n",
        "\n",
        "print(\"Data (sudah diurutkan):\", data_percentiles)\n",
        "print(\"Persentil ke-25       :\", p25)\n",
        "print(\"Persentil ke-75       :\", p75)"
      ],
      "metadata": {
        "colab": {
          "base_uri": "https://localhost:8080/"
        },
        "id": "3N9O2Cw5oWyy",
        "outputId": "6a0e74b4-64ca-4975-82b0-b0cfa1387637"
      },
      "execution_count": 2,
      "outputs": [
        {
          "output_type": "stream",
          "name": "stdout",
          "text": [
            "Data (sudah diurutkan): [4, 5, 5, 6, 7, 7, 8, 9, 10, 11]\n",
            "Persentil ke-25       : 5.25\n",
            "Persentil ke-75       : 8.75\n"
          ]
        }
      ]
    },
    {
      "cell_type": "markdown",
      "source": [
        "## 3.Pada sebuah kelas memiliki nilai hasil ujian yaitu 50, 54, 62, 50, 52, 59, 61, 63, 65, 10, 53, 63, 65, 50, 59, 62, 50, 51, 57, 60, 63, 65, 65, 53, 99. Beradasarkan data hasil ujian tersebut, tentukan :"
      ],
      "metadata": {
        "id": "zSFgBJ9HoY6t"
      }
    },
    {
      "cell_type": "code",
      "source": [
        "import numpy as np\n",
        "\n",
        "# Data nilai ujian (25 nilai)\n",
        "data_ujian = [\n",
        "    50, 54, 62, 50, 52, 59, 61, 63, 65, 10,\n",
        "    53, 63, 65, 50, 59, 62, 50, 51, 57, 60,\n",
        "    63, 65, 65, 53, 99\n",
        "]\n",
        "\n",
        "# a. Urutkan data dari yang terkecil sampai yang terbesar\n",
        "data_terurut = sorted(data_ujian)\n",
        "print(\"a. Data dari terkecil sampai terbesar:\")\n",
        "print(data_terurut)\n",
        "\n",
        "# b. Identifikasi Q1, Q3, dan IQR\n",
        "Q1 = np.percentile(data_terurut, 25)\n",
        "Q3 = np.percentile(data_terurut, 75)\n",
        "IQR = Q3 - Q1\n",
        "\n",
        "print(f\"\\nb. Q1 = {Q1}, Q3 = {Q3}, IQR = {IQR}\")\n",
        "\n",
        "# c. Tentukan upper bound dan lower bound\n",
        "lower_bound = Q1 - 1.5 * IQR\n",
        "upper_bound = Q3 + 1.5 * IQR\n",
        "\n",
        "print(f\"\\nc. Lower Bound = {lower_bound}\")\n",
        "print(f\"   Upper Bound = {upper_bound}\")\n",
        "\n",
        "# d. Tentukan nilai ujian yang menjadi outlier\n",
        "outliers = [x for x in data_terurut if x < lower_bound or x > upper_bound]\n",
        "print(f\"\\nd. Outlier dalam data: {outliers}\")"
      ],
      "metadata": {
        "colab": {
          "base_uri": "https://localhost:8080/"
        },
        "id": "jQnXb3QYx36K",
        "outputId": "2c018430-aba8-4343-a8b2-29f54fbbd3b0"
      },
      "execution_count": null,
      "outputs": [
        {
          "output_type": "stream",
          "name": "stdout",
          "text": [
            "a. Data dari terkecil sampai terbesar:\n",
            "[10, 50, 50, 50, 50, 51, 52, 53, 53, 54, 57, 59, 59, 60, 61, 62, 62, 63, 63, 63, 65, 65, 65, 65, 99]\n",
            "\n",
            "b. Q1 = 52.0, Q3 = 63.0, IQR = 11.0\n",
            "\n",
            "c. Lower Bound = 35.5\n",
            "   Upper Bound = 79.5\n",
            "\n",
            "d. Outlier dalam data: [10, 99]\n"
          ]
        }
      ]
    },
    {
      "cell_type": "markdown",
      "source": [
        "## 4.Diketahui data berat bada mahasiswa informatika polines kelas IK-2E adalah sebagai berikut.\n",
        "Berat Badan (kg)\tFrekuensi\n",
        "   41-45\t            2\n",
        "   46-50\t            3\n",
        "   50-55\t            6\n",
        "   56-60\t            4\n",
        "   61-65\t            5\n",
        "   66-70\t            2\n",
        "Hitunglah standart deviasi dari data berat badan mahasiswa informatika tersebut.\n"
      ],
      "metadata": {
        "id": "Tfgq0RRloqg9"
      }
    },
    {
      "cell_type": "code",
      "source": [
        "# Data kelas berat badan\n",
        "kelas = [(41 + 45)/2, (46 + 50)/2, (50 + 55)/2, (56 + 60)/2, (61 + 65)/2, (66 + 70)/2]\n",
        "frekuensi = [2, 3, 6, 4, 5, 2]\n",
        "\n",
        "# Hitung rata-rata tertimbang\n",
        "n = sum(frekuensi)\n",
        "rataan = sum([x * f for x, f in zip(kelas, frekuensi)]) / n\n",
        "\n",
        "# Hitung varians\n",
        "varians = sum([f * ((x - rataan) ** 2) for x, f in zip(kelas, frekuensi)]) / n\n",
        "\n",
        "# Standar deviasi\n",
        "std_dev = np.sqrt(varians)\n",
        "\n",
        "print(f\"Standar deviasi berat badan: {std_dev:.2f}\")"
      ],
      "metadata": {
        "colab": {
          "base_uri": "https://localhost:8080/"
        },
        "id": "O-t_LyCxpRYX",
        "outputId": "8c95aa3f-b7c4-4b15-e163-c753a9c53c79"
      },
      "execution_count": null,
      "outputs": [
        {
          "output_type": "stream",
          "name": "stdout",
          "text": [
            "Standar deviasi berat badan: 7.24\n"
          ]
        }
      ]
    }
  ]
}