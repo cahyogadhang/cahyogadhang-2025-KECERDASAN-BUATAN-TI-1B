{
  "nbformat": 4,
  "nbformat_minor": 0,
  "metadata": {
    "colab": {
      "provenance": [],
      "collapsed_sections": [
        "o5bB2GO6qT1f",
        "l2-PniKSrWse",
        "cb69TrDWrepW",
        "IQeOYBAhr5TI",
        "I2_-oStwsI3K",
        "M2iOKyeMtTAJ",
        "xa8QshauuqW2",
        "DooRDVs4whOZ",
        "c0SyLjLiwnBY",
        "DG2QOzTJwy5s"
      ],
      "toc_visible": true,
      "authorship_tag": "ABX9TyNj5URPFEVggjdZi9NldwlT",
      "include_colab_link": true
    },
    "kernelspec": {
      "name": "python3",
      "display_name": "Python 3"
    },
    "language_info": {
      "name": "python"
    }
  },
  "cells": [
    {
      "cell_type": "markdown",
      "metadata": {
        "id": "view-in-github",
        "colab_type": "text"
      },
      "source": [
        "<a href=\"https://colab.research.google.com/github/cahyogadhang/cahyogadhang-2025-KECERDASAN-BUATAN-TI-1B/blob/main/jobsheet2.ipynb\" target=\"_parent\"><img src=\"https://colab.research.google.com/assets/colab-badge.svg\" alt=\"Open In Colab\"/></a>"
      ]
    },
    {
      "cell_type": "markdown",
      "source": [
        "# Operasi matematika menggunakan python"
      ],
      "metadata": {
        "id": "zXM69H69qOg9"
      }
    },
    {
      "cell_type": "markdown",
      "source": [
        "## Mendapatkan nilai minimum dan maksimum"
      ],
      "metadata": {
        "id": "o5bB2GO6qT1f"
      }
    },
    {
      "cell_type": "code",
      "source": [
        "x = min(5, 10, 25)\n",
        "y = max(6, 12, 18)\n",
        "print(\"x =\",x,\"y =\",y)"
      ],
      "metadata": {
        "colab": {
          "base_uri": "https://localhost:8080/"
        },
        "id": "20Ep60a5qhck",
        "outputId": "74148276-378e-4484-a1de-c359e5fcf473"
      },
      "execution_count": null,
      "outputs": [
        {
          "output_type": "stream",
          "name": "stdout",
          "text": [
            "x = 5 y = 18\n"
          ]
        }
      ]
    },
    {
      "cell_type": "markdown",
      "source": [
        "## Mendapatkan nilai absolut"
      ],
      "metadata": {
        "id": "l2-PniKSrWse"
      }
    },
    {
      "cell_type": "code",
      "source": [
        "x = abs(-7.25)\n",
        "print(\"x =\",x)"
      ],
      "metadata": {
        "colab": {
          "base_uri": "https://localhost:8080/"
        },
        "id": "o7VuNG6ArcbQ",
        "outputId": "cbd15201-0f5d-491e-e591-900ab11cfeb4"
      },
      "execution_count": null,
      "outputs": [
        {
          "output_type": "stream",
          "name": "stdout",
          "text": [
            "x = 7.25\n"
          ]
        }
      ]
    },
    {
      "cell_type": "markdown",
      "source": [
        "## Mendapatkan nilai pangkat"
      ],
      "metadata": {
        "id": "cb69TrDWrepW"
      }
    },
    {
      "cell_type": "code",
      "source": [
        "import math\n",
        "x = math.pow(4, 3)\n",
        "print(\"x =\",x)"
      ],
      "metadata": {
        "colab": {
          "base_uri": "https://localhost:8080/"
        },
        "id": "WzqOkutvr4UJ",
        "outputId": "248b43e8-3b7a-4c1a-f2cf-57aeb4db7485"
      },
      "execution_count": null,
      "outputs": [
        {
          "output_type": "stream",
          "name": "stdout",
          "text": [
            "x = 64.0\n"
          ]
        }
      ]
    },
    {
      "cell_type": "markdown",
      "source": [
        "## Mendapatkan nilai akar"
      ],
      "metadata": {
        "id": "IQeOYBAhr5TI"
      }
    },
    {
      "cell_type": "code",
      "source": [
        "import math\n",
        "x = math.sqrt(64)\n",
        "print(\"x =\",x)"
      ],
      "metadata": {
        "colab": {
          "base_uri": "https://localhost:8080/"
        },
        "id": "IHdk5LZKr_WE",
        "outputId": "80d5a257-ffc3-4104-dad5-f48840b11f5c"
      },
      "execution_count": null,
      "outputs": [
        {
          "output_type": "stream",
          "name": "stdout",
          "text": [
            "x = 8.0\n"
          ]
        }
      ]
    },
    {
      "cell_type": "markdown",
      "source": [
        "## Mendapatkan nilai pembulatan"
      ],
      "metadata": {
        "id": "I2_-oStwsI3K"
      }
    },
    {
      "cell_type": "code",
      "source": [
        "import math\n",
        "x = math.ceil(1.4)\n",
        "y = math.floor(1.4)\n",
        "print(\"x =\",x,\"y =\",y)"
      ],
      "metadata": {
        "colab": {
          "base_uri": "https://localhost:8080/"
        },
        "id": "o8u7RFyKsNXh",
        "outputId": "66251d8d-53f9-4e2e-9b20-652895dd02f1"
      },
      "execution_count": null,
      "outputs": [
        {
          "output_type": "stream",
          "name": "stdout",
          "text": [
            "x = 2 y = 1\n"
          ]
        }
      ]
    },
    {
      "cell_type": "markdown",
      "source": [
        "## Mendapatkan nilai konstanta (PI)"
      ],
      "metadata": {
        "id": "M2iOKyeMtTAJ"
      }
    },
    {
      "cell_type": "code",
      "source": [
        "import math\n",
        "x = math.pi\n",
        "print(\"x =\",x)"
      ],
      "metadata": {
        "colab": {
          "base_uri": "https://localhost:8080/"
        },
        "id": "vZLnEu_YumkL",
        "outputId": "3db5e6d6-235d-45e0-a122-7435b36d1817"
      },
      "execution_count": null,
      "outputs": [
        {
          "output_type": "stream",
          "name": "stdout",
          "text": [
            "x = 3.141592653589793\n"
          ]
        }
      ]
    },
    {
      "cell_type": "markdown",
      "source": [
        "# Menggunakan Fungsi MATH"
      ],
      "metadata": {
        "id": "xa8QshauuqW2"
      }
    },
    {
      "cell_type": "code",
      "source": [
        "import math\n",
        "\n",
        "def contoh_penggunaan_math():\n",
        "    sudut_rad = math.pi / 2\n",
        "    print(f\"math.sin({sudut_rad}) = {math.sin(sudut_rad)}\")\n",
        "    print(f\"math.cos({sudut_rad}) = {math.cos(sudut_rad)}\")\n",
        "    print(f\"math.tan({sudut_rad}) = {math.tan(sudut_rad)}\\n\")\n",
        "\n",
        "    angka = 10\n",
        "    print(f\"math.log({angka}) = {math.log(angka)}\")\n",
        "    print(f\"math.log10({angka}) = {math.log10(angka)}\\n\")\n",
        "\n",
        "    x = 0.5\n",
        "    print(f\"math.log1p({x}) = {math.log1p(x)}\\n\")\n",
        "\n",
        "    print(f\"math.log2({angka}) = {math.log2(angka)}\\n\")\n",
        "\n",
        "    print(f\"math.log10(100) = {math.log10(100)}\\n\")\n",
        "\n",
        "    radian = math.pi\n",
        "    print(f\"math.degrees({radian}) = {math.degrees(radian)}\\n\")\n",
        "\n",
        "    p1 = (1, 2)\n",
        "    p2 = (4, 6)\n",
        "    print(f\"math.dist({p1}, {p2}) = {math.dist(p1, p2)}\\n\")\n",
        "\n",
        "    n = 5\n",
        "    print(f\"math.factorial({n}) = {math.factorial(n)}\\n\")\n",
        "\n",
        "    print(f\"math.fmod(17, 5) = {math.fmod(17, 5)}\\n\")\n",
        "\n",
        "    print(f\"math.isnan(math.nan) = {math.isnan(math.nan)}\")\n",
        "    print(f\"math.isnan(3.14) = {math.isnan(3.14)}\\n\")\n",
        "\n",
        "    print(f\"math.gamma(5) = {math.gamma(5)}\\n\")\n",
        "\n",
        "    print(f\"math.perm(5, 2) = {math.perm(5, 2)}\")\n",
        "\n",
        "if __name__ == \"__main__\":\n",
        "    contoh_penggunaan_math()\n"
      ],
      "metadata": {
        "colab": {
          "base_uri": "https://localhost:8080/"
        },
        "id": "f9PzIAA4u9XS",
        "outputId": "f6932b3b-c882-4655-cdf7-a6470e01e15f"
      },
      "execution_count": null,
      "outputs": [
        {
          "output_type": "stream",
          "name": "stdout",
          "text": [
            "math.sin(1.5707963267948966) = 1.0\n",
            "math.cos(1.5707963267948966) = 6.123233995736766e-17\n",
            "math.tan(1.5707963267948966) = 1.633123935319537e+16\n",
            "\n",
            "math.log(10) = 2.302585092994046\n",
            "math.log10(10) = 1.0\n",
            "\n",
            "math.log1p(0.5) = 0.4054651081081644\n",
            "\n",
            "math.log2(10) = 3.321928094887362\n",
            "\n",
            "math.log10(100) = 2.0\n",
            "\n",
            "math.degrees(3.141592653589793) = 180.0\n",
            "\n",
            "math.dist((1, 2), (4, 6)) = 5.0\n",
            "\n",
            "math.factorial(5) = 120\n",
            "\n",
            "math.fmod(17, 5) = 2.0\n",
            "\n",
            "math.isnan(math.nan) = True\n",
            "math.isnan(3.14) = False\n",
            "\n",
            "math.gamma(5) = 24.0\n",
            "\n",
            "math.perm(5, 2) = 20\n"
          ]
        }
      ]
    },
    {
      "cell_type": "markdown",
      "source": [
        "# Operasi matriks dan vektor dengan python"
      ],
      "metadata": {
        "id": "cEfkigpSwag1"
      }
    },
    {
      "cell_type": "markdown",
      "source": [
        "## Membuat matriks di pyhon"
      ],
      "metadata": {
        "id": "DooRDVs4whOZ"
      }
    },
    {
      "cell_type": "code",
      "source": [
        "import numpy as np\n",
        "A = np.array([[80, 30, 25],\n",
        "[50, 20, 10]])\n",
        "B = np.array([[30, 60, 15],\n",
        "[10, 30, 30]])\n",
        "\n",
        "print(\"hasil =\",A+B)"
      ],
      "metadata": {
        "colab": {
          "base_uri": "https://localhost:8080/"
        },
        "id": "Wt9TVwn-wlr8",
        "outputId": "4bd63a3a-b187-4bce-9b20-bf4ff09ac4dd"
      },
      "execution_count": null,
      "outputs": [
        {
          "output_type": "stream",
          "name": "stdout",
          "text": [
            "hasil = [[110  90  40]\n",
            " [ 60  50  40]]\n"
          ]
        }
      ]
    },
    {
      "cell_type": "markdown",
      "source": [
        "## Melakukan operasi dot product"
      ],
      "metadata": {
        "id": "c0SyLjLiwnBY"
      }
    },
    {
      "cell_type": "code",
      "source": [
        "import numpy as np\n",
        "A = np.array([10, 20, 15])\n",
        "B = np.array([16, 67, 35])\n",
        "\n",
        "print(\"hasil =\",np.dot(A, B))"
      ],
      "metadata": {
        "colab": {
          "base_uri": "https://localhost:8080/"
        },
        "id": "bOs-dVHKwuKW",
        "outputId": "db199921-467f-486c-c478-5a3de44bea2a"
      },
      "execution_count": null,
      "outputs": [
        {
          "output_type": "stream",
          "name": "stdout",
          "text": [
            "hasil = 2025\n"
          ]
        }
      ]
    },
    {
      "cell_type": "markdown",
      "source": [
        "## Melakukan operasi cross product"
      ],
      "metadata": {
        "id": "DG2QOzTJwy5s"
      }
    },
    {
      "cell_type": "code",
      "source": [
        "import numpy as np\n",
        "A = np.array([10, 20, 15])\n",
        "B = np.array([16, 67, 35])\n",
        "\n",
        "print(\"Hasil =\",np.cross(A, B))"
      ],
      "metadata": {
        "colab": {
          "base_uri": "https://localhost:8080/"
        },
        "id": "74acAbmHw5I8",
        "outputId": "ff69b4f5-63a2-40a8-cc7a-743a26631f3d"
      },
      "execution_count": null,
      "outputs": [
        {
          "output_type": "stream",
          "name": "stdout",
          "text": [
            "Hasil = [-305 -110  350]\n"
          ]
        }
      ]
    },
    {
      "cell_type": "markdown",
      "source": [
        "# TUGAS PRAKTIKUM"
      ],
      "metadata": {
        "id": "eAtqKdVKyM6_"
      }
    },
    {
      "cell_type": "markdown",
      "source": [
        "## Nomor 1\n"
      ],
      "metadata": {
        "id": "iASGOFNAySAW"
      }
    },
    {
      "cell_type": "code",
      "source": [
        "import numpy as np\n",
        "\n",
        "A = np.array([[3, 1], [2, 0]])\n",
        "B = np.array([[2, 1], [1, -1]])\n",
        "C = np.array([[-1, 1, 2], [2, 0, -1]])\n",
        "\n",
        "AB = np.dot(A, B)\n",
        "print(\"a. A x B:\\n\", AB)\n",
        "\n",
        "BC = np.dot(B, C)\n",
        "print(\"b. B x C:\\n\", BC)"
      ],
      "metadata": {
        "colab": {
          "base_uri": "https://localhost:8080/"
        },
        "id": "phqji6Ih07nH",
        "outputId": "a18391f1-5603-44ae-bd0c-e63eb82864fa"
      },
      "execution_count": 3,
      "outputs": [
        {
          "output_type": "stream",
          "name": "stdout",
          "text": [
            "a. A x B:\n",
            " [[7 2]\n",
            " [4 2]]\n",
            "b. B x C:\n",
            " [[ 0  2  3]\n",
            " [-3  1  3]]\n"
          ]
        }
      ]
    },
    {
      "cell_type": "markdown",
      "source": [
        "## Nomor 2"
      ],
      "metadata": {
        "id": "xKaRpHPT2KoA"
      }
    },
    {
      "cell_type": "code",
      "source": [
        "import math\n",
        "\n",
        "# Menghitung 6!\n",
        "faktorial_6 = math.factorial(6)\n",
        "print(\"a. 6! =\", faktorial_6)\n",
        "\n",
        "# Menghitung (8! / 5!)\n",
        "faktorial_8 = math.factorial(8)\n",
        "faktorial_5 = math.factorial(5)\n",
        "hasil = faktorial_8 / faktorial_5\n",
        "print(\"b. 8! / 5! =\", hasil)"
      ],
      "metadata": {
        "colab": {
          "base_uri": "https://localhost:8080/"
        },
        "id": "tWrpxWNP4ckq",
        "outputId": "3da222c2-e8fa-4152-80c8-b59da411e5f7"
      },
      "execution_count": null,
      "outputs": [
        {
          "output_type": "stream",
          "name": "stdout",
          "text": [
            "a. 6! = 720\n",
            "b. 8! / 5! = 336.0\n"
          ]
        }
      ]
    },
    {
      "cell_type": "markdown",
      "source": [
        "## Nomor 3"
      ],
      "metadata": {
        "id": "QKJXOZ1K5EQd"
      }
    },
    {
      "cell_type": "code",
      "source": [
        "import numpy as np\n",
        "\n",
        "A = np.array([5, 3, 7])\n",
        "B = np.array([12, -3, 1])\n",
        "\n",
        "panjang_A = np.linalg.norm(A)\n",
        "panjang_B = np.linalg.norm(B)\n",
        "\n",
        "dot_AB = np.dot(A, B)\n",
        "\n",
        "cross_AB = np.cross(A, B)\n",
        "\n",
        "print(\"Panjang (norma) Vektor A =\", panjang_A)\n",
        "print(\"Panjang (norma) Vektor B =\", panjang_B)\n",
        "print(\"Hasil A · B =\", dot_AB)\n",
        "print(\"Hasil A × B =\", cross_AB)"
      ],
      "metadata": {
        "id": "AI-YyNS35IAs",
        "colab": {
          "base_uri": "https://localhost:8080/"
        },
        "outputId": "73c7c64f-4d7b-44cb-890f-8e86aa6db118"
      },
      "execution_count": 1,
      "outputs": [
        {
          "output_type": "stream",
          "name": "stdout",
          "text": [
            "Panjang (norma) Vektor A = 9.1104335791443\n",
            "Panjang (norma) Vektor B = 12.409673645990857\n",
            "Hasil A · B = 58\n",
            "Hasil A × B = [ 24  79 -51]\n"
          ]
        }
      ]
    }
  ]
}